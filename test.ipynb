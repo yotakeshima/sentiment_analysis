{
 "cells": [
  {
   "cell_type": "code",
   "execution_count": 6,
   "metadata": {},
   "outputs": [
    {
     "name": "stdout",
     "output_type": "stream",
     "text": [
      "<generator object _BaseKFold.split at 0x0000025F79EF0740>\n"
     ]
    }
   ],
   "source": [
    "import re\n",
    "import numpy as np\n",
    "import pandas as pd\n",
    "from sklearn.model_selection import KFold\n",
    "import string\n",
    "\n",
    "df = pd.read_csv('trainhw1new.txt', names=['Labels', 'Reviews'], sep='(?<=\\d)\\t|(?<=.)\\t', engine='python', usecols=range(2)) # Create a dataframe from trainhw1new.txt file. Then split the data into 2 columns by 'Labels' | 'Reviews' \n",
    "kf = KFold(n_splits=10)                     # initialize kf variable, splits into k=10 folds\n",
    "result = next(kf.split(df), None)           # result variable takes just one of the Kfold splits.\n",
    "train = df.iloc[result[0]]                  \n",
    "test = df.iloc[result[1]]\n",
    "\n",
    "print(result)"
   ]
  },
  {
   "cell_type": "code",
   "execution_count": null,
   "metadata": {},
   "outputs": [],
   "source": []
  }
 ],
 "metadata": {
  "kernelspec": {
   "display_name": "Python 3.10.6 64-bit",
   "language": "python",
   "name": "python3"
  },
  "language_info": {
   "codemirror_mode": {
    "name": "ipython",
    "version": 3
   },
   "file_extension": ".py",
   "mimetype": "text/x-python",
   "name": "python",
   "nbconvert_exporter": "python",
   "pygments_lexer": "ipython3",
   "version": "3.10.6"
  },
  "orig_nbformat": 4,
  "vscode": {
   "interpreter": {
    "hash": "bc808c08d0bb3c507e08863450f2906747c567400ff7f08ae78376e86ebe3447"
   }
  }
 },
 "nbformat": 4,
 "nbformat_minor": 2
}
