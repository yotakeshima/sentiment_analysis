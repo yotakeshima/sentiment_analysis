{
 "cells": [
  {
   "cell_type": "code",
   "execution_count": 4,
   "metadata": {},
   "outputs": [
    {
     "name": "stdout",
     "output_type": "stream",
     "text": [
      "  Labels                                            Reviews\n",
      "1     -1  i bought this for the leak side when i stay ho...\n",
      "2      1  we live in a windy and cold town and the wind ...\n",
      "3     -1  my baby loves eating different kinds of snacks...\n",
      "4     -1  i bought this to replace our planet wise bag a...\n",
      "5     -1  the good news is we didn t experience leaking ...\n",
      "6      1  they have a lot of static but you don t need t...\n",
      "7     -1  i have mixed feelings about this set the four ...\n",
      "8      1  we bought these when we converted our twins cr...\n",
      "9      1  i actually bought two baby bath tubs i wanted ...\n",
      "  Labels                                            Reviews\n",
      "1     -1  i bought this for the leak side when i stay ho...\n",
      "2      1  we live in a windy and cold town and the wind ...\n",
      "3     -1  my baby loves eating different kinds of snacks...\n",
      "4     -1  i bought this to replace our planet wise bag a...\n",
      "5     -1  the good news is we didn t experience leaking ...\n",
      "6      1  they have a lot of static but you don t need t...\n",
      "7     -1  i have mixed feelings about this set the four ...\n",
      "8      1  we bought these when we converted our twins cr...\n",
      "9      1  i actually bought two baby bath tubs i wanted ...\n"
     ]
    },
    {
     "name": "stderr",
     "output_type": "stream",
     "text": [
      "C:\\Users\\yoshi\\AppData\\Local\\Temp\\ipykernel_260\\1330552896.py:13: SettingWithCopyWarning: \n",
      "A value is trying to be set on a copy of a slice from a DataFrame.\n",
      "Try using .loc[row_indexer,col_indexer] = value instead\n",
      "\n",
      "See the caveats in the documentation: https://pandas.pydata.org/pandas-docs/stable/user_guide/indexing.html#returning-a-view-versus-a-copy\n",
      "  text.loc[:,\"Reviews\"] = text.Reviews.apply(lambda x : str.lower(x))\n",
      "C:\\Users\\yoshi\\AppData\\Local\\Temp\\ipykernel_260\\1330552896.py:14: SettingWithCopyWarning: \n",
      "A value is trying to be set on a copy of a slice from a DataFrame.\n",
      "Try using .loc[row_indexer,col_indexer] = value instead\n",
      "\n",
      "See the caveats in the documentation: https://pandas.pydata.org/pandas-docs/stable/user_guide/indexing.html#returning-a-view-versus-a-copy\n",
      "  text.loc[:,\"Reviews\"] = text.Reviews.apply(lambda x : \" \".join(re.findall('[\\w]+',x)))\n",
      "C:\\Users\\yoshi\\AppData\\Local\\Temp\\ipykernel_260\\1330552896.py:15: SettingWithCopyWarning: \n",
      "A value is trying to be set on a copy of a slice from a DataFrame.\n",
      "Try using .loc[row_indexer,col_indexer] = value instead\n",
      "\n",
      "See the caveats in the documentation: https://pandas.pydata.org/pandas-docs/stable/user_guide/indexing.html#returning-a-view-versus-a-copy\n",
      "  text.loc[:,\"Labels\"] = text.Labels.apply(lambda x : \"\".join(re.findall('[\\d]|\\-',x)))\n"
     ]
    }
   ],
   "source": [
    "from sklearn.feature_extraction.text import CountVectorizer\n",
    "from sklearn.feature_extraction.text import TfidfVectorizer\n",
    "from sklearn.model_selection import KFold\n",
    "from scipy import spatial\n",
    "import pandas as pd\n",
    "import nltk\n",
    "import re\n",
    "import string\n",
    "import scipy.sparse\n",
    "\n",
    " \n",
    "def preprocess(text):\n",
    "    text.loc[:,\"Reviews\"] = text.Reviews.apply(lambda x : str.lower(x))\n",
    "    text.loc[:,\"Reviews\"] = text.Reviews.apply(lambda x : \" \".join(re.findall('[\\w]+',x)))\n",
    "    text.loc[:,\"Labels\"] = text.Labels.apply(lambda x : \"\".join(re.findall('[\\d]|\\-',x)))\n",
    "    return text\n",
    "def testPrep(text):\n",
    "    text.iloc[1] = text.iloc[1].lower()\n",
    "    text.iloc[1] = text.iloc[1].translate(str.maketrans('','', string.punctuation))\n",
    "    return text\n",
    "\n",
    "def vectorize(data):\n",
    "    idf = TfidfVectorizer()\n",
    "    idf_matrix = idf.fit_transform(data.Reviews)\n",
    "    cv = CountVectorizer(stop_words='english')\n",
    "    cv_matrix = cv.fit_transform(data.Reviews)\n",
    "    vectors = scipy.sparse.hstack([cv_matrix, idf_matrix])\n",
    "    vectors = vectors.toarray()\n",
    "\n",
    "\n",
    "df = pd.read_csv('trainhw1new.txt', names=['Labels', 'Reviews'], engine='python', sep='(?<=\\d)\\t|(?<=.)\\t', usecols=range(2)) # Create a dataframe from trainhw1new.txt file. Then split the data into 2 columns by 'Labels' | 'Reviews' \n",
    "test = df.iloc[0]\n",
    "train = df.iloc[1:10]\n",
    "\n",
    "train = preprocess(train)\n",
    "test = testPrep(test)\n",
    "new_train = train[['Labels','Reviews']].copy()\n",
    "\n",
    "\n",
    "print(train)\n",
    "print(new_train)"
   ]
  }
 ],
 "metadata": {
  "kernelspec": {
   "display_name": "Python 3.10.6 64-bit",
   "language": "python",
   "name": "python3"
  },
  "language_info": {
   "codemirror_mode": {
    "name": "ipython",
    "version": 3
   },
   "file_extension": ".py",
   "mimetype": "text/x-python",
   "name": "python",
   "nbconvert_exporter": "python",
   "pygments_lexer": "ipython3",
   "version": "3.10.6"
  },
  "orig_nbformat": 4,
  "vscode": {
   "interpreter": {
    "hash": "10be97a11e868b718b42697301029a74f50ba3517953eac34620943640ecb7de"
   }
  }
 },
 "nbformat": 4,
 "nbformat_minor": 2
}
